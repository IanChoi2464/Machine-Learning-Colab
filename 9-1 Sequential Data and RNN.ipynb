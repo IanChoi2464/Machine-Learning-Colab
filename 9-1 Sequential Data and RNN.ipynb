{
  "nbformat": 4,
  "nbformat_minor": 0,
  "metadata": {
    "colab": {
      "provenance": [],
      "authorship_tag": "ABX9TyOTBEPBdPerh2yQrHviTzue",
      "include_colab_link": true
    },
    "kernelspec": {
      "name": "python3",
      "display_name": "Python 3"
    },
    "language_info": {
      "name": "python"
    }
  },
  "cells": [
    {
      "cell_type": "markdown",
      "metadata": {
        "id": "view-in-github",
        "colab_type": "text"
      },
      "source": [
        "<a href=\"https://colab.research.google.com/github/IanChoi2464/Machine-Learning-Colab/blob/main/9-1%20Sequential%20Data%20and%20RNN.ipynb\" target=\"_parent\"><img src=\"https://colab.research.google.com/assets/colab-badge.svg\" alt=\"Open In Colab\"/></a>"
      ]
    },
    {
      "cell_type": "markdown",
      "source": [
        "순차 데이터의 특징을 알고 순환 신경망의 개념을 학습한다.\n",
        "# Keyword\n",
        "**순차 데이터**: sequential data, 텍스트나 시계열 데이터와 같이 순서에 의미가 있는 데이터, 대표적인 순차 데이터로는 글, 대화, 일자별 날씨, 일자별 판매 실적 등이 있음\\\n",
        "**순환 신경망**: recurrent neural network, 순차 데이터에 잘 맞는 인공 신경망의 한 종류, 순차 데이터를 처리하기 위해 고안된 순환층을 1개 이상 사용한 신경망을 순환 신경망이라고 부름\\\n",
        "**셀**: cell, 순환 신경망에서는 종종 순환층을 셀이라 부름, 일반적인 인공 신경망과 마찬가지로 하나의 셀은 여러 개의 뉴런으로 구성됨\\\n",
        "**은닉 상태**: hidden state, 순환 신경망에서는 셀의 출력을 특별히 은닉 상태라고 부름, 은닉 상태는 다음 층으로 전달될 뿐만 아니라 셀이 다음 타임스텝의 데이터를 처리할 때 재사용됨\n",
        "# Tip\n",
        "1. 피드포워드(e.g.완전 연결 신경망, 합성곱 신경망)은 하나의 샘플(또는 배치)을 사용하여 정방향 계산을 수행하고 나면 그 샘플은 버려지고 다음 샘플을 처리할 때 재사용하지 않는다.\n",
        "2. 순환 신경망에서는 활성화 함수로 tanh 함수를 많이 사용한다.\n",
        "3. 은닉 상태가 모든 뉴런에 순환된다."
      ],
      "metadata": {
        "id": "0EYtuboFxvyh"
      }
    }
  ]
}