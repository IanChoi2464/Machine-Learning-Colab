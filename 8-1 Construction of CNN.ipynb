{
  "nbformat": 4,
  "nbformat_minor": 0,
  "metadata": {
    "colab": {
      "provenance": [],
      "authorship_tag": "ABX9TyPBXpzHSg3we+RydVAFwG0W",
      "include_colab_link": true
    },
    "kernelspec": {
      "name": "python3",
      "display_name": "Python 3"
    },
    "language_info": {
      "name": "python"
    }
  },
  "cells": [
    {
      "cell_type": "markdown",
      "metadata": {
        "id": "view-in-github",
        "colab_type": "text"
      },
      "source": [
        "<a href=\"https://colab.research.google.com/github/IanChoi2464/Machine-Learning-Colab/blob/main/8-1%20Construction%20of%20CNN.ipynb\" target=\"_parent\"><img src=\"https://colab.research.google.com/assets/colab-badge.svg\" alt=\"Open In Colab\"/></a>"
      ]
    },
    {
      "cell_type": "markdown",
      "source": [
        "합성곱 신경망을 구성하는 기본 개념과 동작 원리를 배우고 간단한 합성곱, 풀링 계산 방법을 익힌다.\n",
        "# Keyword\n",
        "**합성곱**: convolution, 밀집층과 비슷하게 입력과 가중치를 곱하고 절편을 더하는 선형 계산, 하지만 밀집층과 달리 각 합성곱은 입력 전체가 아니라 일부만 사용하여 선형 계산을 수행\\\n",
        "**필터**: 합성곱 층의 필터는 밀집층의 뉴런에 해당, 필터의 가중치와 절편을 종종 커널이라고 부름, 자주 사용되는 커널의 크기는 (3,3) or (5,5), 커널의 깊이는 입력의 깊이와 같음\\\n",
        "**특성 맵**: feature map, 합성곱 층이나 풀링 층의 출력 배열을 의미, 필터 하나가 하나의 특성 맵을 만듦, 합성곱 층에서 5개의 필터를 적용하면 5개의 특성 맵이 만들어짐\\\n",
        "**패딩**: padding, 합성곱 층의 입력 주위에 추가한 0으로 채워진 픽셀, 패딩을 사용하지 않는 것을 밸리드 패딩(valid padding)이라고 함, 합성곱 층의 출력 크기를 입력과 동일하게 만들기 위해 입력에 패딩을 추가하는 것을 세임 패딩(same padding)이라고 함\\\n",
        "**스트라이드**: stride, 합성곱 층에서 필터가 입력 위를 이동하는 크기, 일반적으로 1픽셀을 사용\\\n",
        "**풀링**: pooling, 가중치가 없고 특성 맵의 가로세로 크기를 줄이는 역할을 수행, 대표적으로 최대 풀링과 평균 풀링이 있으며 (2,2) 풀링으로 입력을 절반으로 줄임\n",
        "# Tip\n",
        "1. 합성곱의 실제 계산은 밀집층과 동일하게 단순히 입력과 가중치를 곱하는 것이지만 2차원 형태를 유지하는 점이 다르다. 또 입력보다 훨씬 작은 크기의 커널을 사용하고 입력 위를 이동하면서 2차원 특성 맵을 만든다.\n",
        "2. 합성곱 층은 활성화 함수로 렐루 함수를 많이 사용한다.\n",
        "3. 풀링을 사용하는 이유는 합성곱에서 스트라이드를 크게 하여 특성 맵을 줄이는 것보다 풀링 층에서 크기를 줄이는 것이 경험적으로 더 나은 성능을 내기 때문이다.\n",
        "4. 컬러 이미지는 깊이가 3."
      ],
      "metadata": {
        "id": "wd8FKePIVQQY"
      }
    }
  ]
}